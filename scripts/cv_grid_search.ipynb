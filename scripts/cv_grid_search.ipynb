{
 "cells": [
  {
   "cell_type": "markdown",
   "metadata": {
    "collapsed": false
   },
   "source": [
    "SIB - P7\n",
    "A Jupyter Notebook with examples of how to use cross validation and grid search. 30/10/2023"
   ]
  },
  {
   "cell_type": "code",
   "execution_count": 16,
   "metadata": {
    "ExecuteTime": {
     "end_time": "2023-10-19T16:34:08.416420154Z",
     "start_time": "2023-10-19T16:34:08.231373989Z"
    },
    "collapsed": false
   },
   "outputs": [],
   "source": [
    "# imports\n",
    "from si.io.csv_file import read_csv\n",
    "from si.models.logistic_regression import LogisticRegression\n",
    "from si.model_selection.cross_validate import k_fold_cross_validation\n",
    "from si.model_selection.grid_search import grid_search_cv"
   ]
  },
  {
   "cell_type": "code",
   "execution_count": 17,
   "metadata": {
    "ExecuteTime": {
     "end_time": "2023-10-19T16:34:15.585061748Z",
     "start_time": "2023-10-19T16:34:15.576860668Z"
    },
    "collapsed": false
   },
   "outputs": [],
   "source": [
    "# datasets\n",
    "breast_bin_dataset = read_csv('C:/Users/luis-/Documents/GitHub/Sistemas_inteligentes/datasets/breast-bin/breast-bin.csv', features=False, label=True)\n"
   ]
  },
  {
   "cell_type": "code",
   "execution_count": 18,
   "metadata": {
    "ExecuteTime": {
     "end_time": "2023-10-19T16:34:16.580396516Z",
     "start_time": "2023-10-19T16:34:16.550512610Z"
    },
    "collapsed": false
   },
   "outputs": [
    {
     "data": {
      "text/plain": [
       "[0.9712230215827338,\n",
       " 0.9784172661870504,\n",
       " 0.9712230215827338,\n",
       " 0.9640287769784173,\n",
       " 0.9496402877697842]"
      ]
     },
     "execution_count": 18,
     "metadata": {},
     "output_type": "execute_result"
    }
   ],
   "source": [
    "# cross validation\n",
    "lg = LogisticRegression()\n",
    "scores = k_fold_cross_validation(lg, breast_bin_dataset, cv=5)\n",
    "scores"
   ]
  },
  {
   "cell_type": "code",
   "execution_count": 19,
   "metadata": {
    "ExecuteTime": {
     "end_time": "2023-10-19T16:34:39.904523639Z",
     "start_time": "2023-10-19T16:34:34.031263725Z"
    },
    "collapsed": false
   },
   "outputs": [
    {
     "data": {
      "text/plain": [
       "{'scores': [0.9669540229885056,\n",
       "  0.9669540229885057,\n",
       "  0.9669540229885057,\n",
       "  0.9669540229885057,\n",
       "  0.9683908045977011,\n",
       "  0.9669540229885057,\n",
       "  0.9669540229885057,\n",
       "  0.9669540229885056,\n",
       "  0.9683908045977011,\n",
       "  0.9669540229885057,\n",
       "  0.9669540229885056,\n",
       "  0.9655172413793104,\n",
       "  0.9669540229885057,\n",
       "  0.9669540229885057,\n",
       "  0.9655172413793104,\n",
       "  0.9655172413793104,\n",
       "  0.9669540229885057,\n",
       "  0.9669540229885057,\n",
       "  0.9669540229885057,\n",
       "  0.9669540229885056,\n",
       "  0.9669540229885057,\n",
       "  0.9655172413793104,\n",
       "  0.9669540229885057,\n",
       "  0.9669540229885057,\n",
       "  0.9669540229885057,\n",
       "  0.9669540229885057,\n",
       "  0.9669540229885057,\n",
       "  0.9669540229885056,\n",
       "  0.9669540229885057,\n",
       "  0.9669540229885057,\n",
       "  0.9669540229885057,\n",
       "  0.9683908045977012,\n",
       "  0.9669540229885056,\n",
       "  0.9669540229885057,\n",
       "  0.9669540229885056,\n",
       "  0.9669540229885057],\n",
       " 'hyperparameters': [{'l2_penalty': 1, 'alpha': 0.001, 'max_iter': 1000},\n",
       "  {'l2_penalty': 1, 'alpha': 0.001, 'max_iter': 2000},\n",
       "  {'l2_penalty': 1, 'alpha': 0.001, 'max_iter': 3000},\n",
       "  {'l2_penalty': 1, 'alpha': 0.001, 'max_iter': 4000},\n",
       "  {'l2_penalty': 1, 'alpha': 0.001, 'max_iter': 5000},\n",
       "  {'l2_penalty': 1, 'alpha': 0.001, 'max_iter': 6000},\n",
       "  {'l2_penalty': 1, 'alpha': 0.0001, 'max_iter': 1000},\n",
       "  {'l2_penalty': 1, 'alpha': 0.0001, 'max_iter': 2000},\n",
       "  {'l2_penalty': 1, 'alpha': 0.0001, 'max_iter': 3000},\n",
       "  {'l2_penalty': 1, 'alpha': 0.0001, 'max_iter': 4000},\n",
       "  {'l2_penalty': 1, 'alpha': 0.0001, 'max_iter': 5000},\n",
       "  {'l2_penalty': 1, 'alpha': 0.0001, 'max_iter': 6000},\n",
       "  {'l2_penalty': 1, 'alpha': 1e-05, 'max_iter': 1000},\n",
       "  {'l2_penalty': 1, 'alpha': 1e-05, 'max_iter': 2000},\n",
       "  {'l2_penalty': 1, 'alpha': 1e-05, 'max_iter': 3000},\n",
       "  {'l2_penalty': 1, 'alpha': 1e-05, 'max_iter': 4000},\n",
       "  {'l2_penalty': 1, 'alpha': 1e-05, 'max_iter': 5000},\n",
       "  {'l2_penalty': 1, 'alpha': 1e-05, 'max_iter': 6000},\n",
       "  {'l2_penalty': 10, 'alpha': 0.001, 'max_iter': 1000},\n",
       "  {'l2_penalty': 10, 'alpha': 0.001, 'max_iter': 2000},\n",
       "  {'l2_penalty': 10, 'alpha': 0.001, 'max_iter': 3000},\n",
       "  {'l2_penalty': 10, 'alpha': 0.001, 'max_iter': 4000},\n",
       "  {'l2_penalty': 10, 'alpha': 0.001, 'max_iter': 5000},\n",
       "  {'l2_penalty': 10, 'alpha': 0.001, 'max_iter': 6000},\n",
       "  {'l2_penalty': 10, 'alpha': 0.0001, 'max_iter': 1000},\n",
       "  {'l2_penalty': 10, 'alpha': 0.0001, 'max_iter': 2000},\n",
       "  {'l2_penalty': 10, 'alpha': 0.0001, 'max_iter': 3000},\n",
       "  {'l2_penalty': 10, 'alpha': 0.0001, 'max_iter': 4000},\n",
       "  {'l2_penalty': 10, 'alpha': 0.0001, 'max_iter': 5000},\n",
       "  {'l2_penalty': 10, 'alpha': 0.0001, 'max_iter': 6000},\n",
       "  {'l2_penalty': 10, 'alpha': 1e-05, 'max_iter': 1000},\n",
       "  {'l2_penalty': 10, 'alpha': 1e-05, 'max_iter': 2000},\n",
       "  {'l2_penalty': 10, 'alpha': 1e-05, 'max_iter': 3000},\n",
       "  {'l2_penalty': 10, 'alpha': 1e-05, 'max_iter': 4000},\n",
       "  {'l2_penalty': 10, 'alpha': 1e-05, 'max_iter': 5000},\n",
       "  {'l2_penalty': 10, 'alpha': 1e-05, 'max_iter': 6000}],\n",
       " 'best_hyperparameters': {'l2_penalty': 10, 'alpha': 1e-05, 'max_iter': 2000},\n",
       " 'best_score': 0.9683908045977012}"
      ]
     },
     "execution_count": 19,
     "metadata": {},
     "output_type": "execute_result"
    }
   ],
   "source": [
    "# grid search cv\n",
    "\n",
    "lg = LogisticRegression()\n",
    "\n",
    "# parameter grid\n",
    "parameter_grid = {\n",
    "    'l2_penalty': (1, 10),\n",
    "    'alpha': (0.001, 0.0001, 0.00001),\n",
    "    'max_iter': (1000, 2000, 3000, 4000, 5000, 6000)\n",
    "}\n",
    "\n",
    "# cross validate the model\n",
    "scores = grid_search_cv(lg,\n",
    "                        breast_bin_dataset,\n",
    "                        hyperparameter_grid=parameter_grid,\n",
    "                        cv=3)\n",
    "\n",
    "scores"
   ]
  },
  {
   "cell_type": "code",
   "execution_count": 20,
   "metadata": {
    "ExecuteTime": {
     "end_time": "2023-10-19T16:36:06.497291093Z",
     "start_time": "2023-10-19T16:36:06.450775169Z"
    },
    "collapsed": false
   },
   "outputs": [
    {
     "data": {
      "text/plain": [
       "[0.9669540229885056,\n",
       " 0.9669540229885057,\n",
       " 0.9669540229885057,\n",
       " 0.9669540229885057,\n",
       " 0.9683908045977011,\n",
       " 0.9669540229885057,\n",
       " 0.9669540229885057,\n",
       " 0.9669540229885056,\n",
       " 0.9683908045977011,\n",
       " 0.9669540229885057,\n",
       " 0.9669540229885056,\n",
       " 0.9655172413793104,\n",
       " 0.9669540229885057,\n",
       " 0.9669540229885057,\n",
       " 0.9655172413793104,\n",
       " 0.9655172413793104,\n",
       " 0.9669540229885057,\n",
       " 0.9669540229885057,\n",
       " 0.9669540229885057,\n",
       " 0.9669540229885056,\n",
       " 0.9669540229885057,\n",
       " 0.9655172413793104,\n",
       " 0.9669540229885057,\n",
       " 0.9669540229885057,\n",
       " 0.9669540229885057,\n",
       " 0.9669540229885057,\n",
       " 0.9669540229885057,\n",
       " 0.9669540229885056,\n",
       " 0.9669540229885057,\n",
       " 0.9669540229885057,\n",
       " 0.9669540229885057,\n",
       " 0.9683908045977012,\n",
       " 0.9669540229885056,\n",
       " 0.9669540229885057,\n",
       " 0.9669540229885056,\n",
       " 0.9669540229885057]"
      ]
     },
     "execution_count": 20,
     "metadata": {},
     "output_type": "execute_result"
    }
   ],
   "source": [
    "#scores\n",
    "scores['scores']"
   ]
  },
  {
   "cell_type": "code",
   "execution_count": 21,
   "metadata": {
    "ExecuteTime": {
     "end_time": "2023-10-19T16:36:11.334590739Z",
     "start_time": "2023-10-19T16:36:11.321576598Z"
    },
    "collapsed": false
   },
   "outputs": [
    {
     "data": {
      "text/plain": [
       "{'l2_penalty': 10, 'alpha': 1e-05, 'max_iter': 2000}"
      ]
     },
     "execution_count": 21,
     "metadata": {},
     "output_type": "execute_result"
    }
   ],
   "source": [
    "# best hyperparameters\n",
    "scores['best_hyperparameters']"
   ]
  },
  {
   "cell_type": "code",
   "execution_count": 22,
   "metadata": {
    "ExecuteTime": {
     "end_time": "2023-10-19T16:36:17.874669837Z",
     "start_time": "2023-10-19T16:36:17.857739293Z"
    },
    "collapsed": false
   },
   "outputs": [
    {
     "data": {
      "text/plain": [
       "0.9683908045977012"
      ]
     },
     "execution_count": 22,
     "metadata": {},
     "output_type": "execute_result"
    }
   ],
   "source": [
    "# best score\n",
    "scores['best_score']"
   ]
  }
 ],
 "metadata": {
  "kernelspec": {
   "display_name": "Python 3",
   "language": "python",
   "name": "python3"
  },
  "language_info": {
   "codemirror_mode": {
    "name": "ipython",
    "version": 3
   },
   "file_extension": ".py",
   "mimetype": "text/x-python",
   "name": "python",
   "nbconvert_exporter": "python",
   "pygments_lexer": "ipython3",
   "version": "3.9.18"
  }
 },
 "nbformat": 4,
 "nbformat_minor": 0
}
