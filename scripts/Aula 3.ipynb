{
 "cells": [
  {
   "cell_type": "code",
   "execution_count": 5,
   "metadata": {},
   "outputs": [
    {
     "name": "stdout",
     "output_type": "stream",
     "text": [
      "<bound method Dataset.shape of <si.data.dataset.Dataset object at 0x000001F51B0E5A60>>\n"
     ]
    }
   ],
   "source": [
    "from si.decomposition.pca import PCA\n",
    "from si.io.csv_file import read_csv\n",
    "\n",
    "if __name__ == '__main__':\n",
    "        \n",
    "        path= \"C:/Users/luis-/Documents/GitHub/Sistemas_inteligentes/datasets/iris/iris.csv\"\n",
    "        dataset =  read_csv(path, sep = ',', features=True, label=True)\n",
    "        \n",
    "        n = 2\n",
    "        pca = PCA(n)\n",
    "        res = pca.fit_transform(dataset) \n",
    "\n",
    "print(res.shape)\n",
    "       \n",
    "    "
   ]
  },
  {
   "cell_type": "code",
   "execution_count": 6,
   "metadata": {},
   "outputs": [
    {
     "name": "stdout",
     "output_type": "stream",
     "text": [
      "[4.22484077 0.24224357]\n"
     ]
    }
   ],
   "source": [
    "print(pca.explained_variance)    \n",
    "  "
   ]
  },
  {
   "cell_type": "code",
   "execution_count": 7,
   "metadata": {},
   "outputs": [
    {
     "name": "stdout",
     "output_type": "stream",
     "text": [
      "[[ 0.36158968 -0.08226889  0.85657211  0.35884393]\n",
      " [-0.65653988 -0.72971237  0.1757674   0.07470647]]\n"
     ]
    }
   ],
   "source": [
    "print(pca.components)"
   ]
  }
 ],
 "metadata": {
  "kernelspec": {
   "display_name": "mestrado_si",
   "language": "python",
   "name": "python3"
  },
  "language_info": {
   "codemirror_mode": {
    "name": "ipython",
    "version": 3
   },
   "file_extension": ".py",
   "mimetype": "text/x-python",
   "name": "python",
   "nbconvert_exporter": "python",
   "pygments_lexer": "ipython3",
   "version": "3.9.18"
  }
 },
 "nbformat": 4,
 "nbformat_minor": 2
}
